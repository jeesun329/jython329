{
  "nbformat": 4,
  "nbformat_minor": 0,
  "metadata": {
    "colab": {
      "name": "20210602_3팀_윤지선.ipynb의 사본",
      "provenance": [],
      "authorship_tag": "ABX9TyPIcP6w4PshJ5OgdGrC107H",
      "include_colab_link": true
    },
    "kernelspec": {
      "name": "python3",
      "display_name": "Python 3"
    },
    "language_info": {
      "name": "python"
    }
  },
  "cells": [
    {
      "cell_type": "markdown",
      "metadata": {
        "id": "view-in-github",
        "colab_type": "text"
      },
      "source": [
        "<a href=\"https://colab.research.google.com/github/jeesun329/jython329/blob/master/_notebooks/20210602_3%ED%8C%80_%EC%9C%A4%EC%A7%80%EC%84%A0_ipynb%EC%9D%98_%EC%82%AC%EB%B3%B8.ipynb\" target=\"_parent\"><img src=\"https://colab.research.google.com/assets/colab-badge.svg\" alt=\"Open In Colab\"/></a>"
      ]
    },
    {
      "cell_type": "code",
      "metadata": {
        "id": "ear9gPm_5dlv"
      },
      "source": [
        ""
      ],
      "execution_count": null,
      "outputs": []
    },
    {
      "cell_type": "markdown",
      "metadata": {
        "id": "48_GK3G07e_t"
      },
      "source": [
        "함수: 특정 기능을 구현하기 위해 관련된 여러개의 실행문을 묶어놓은 코드, 반복되는 부분을 함수화 하여 코드의 중복을 배제한다., 코드의 가독성을 높여 프로그램의 흐름 파악 및 디버깅 용이\n",
        "\n",
        "-내장함수: 파이썬 프로그램에 기본적으로 내장된 함수, import"
      ]
    },
    {
      "cell_type": "code",
      "metadata": {
        "colab": {
          "base_uri": "https://localhost:8080/"
        },
        "id": "dKYWZ6ME6p0Q",
        "outputId": "a129e3b6-6908-4945-fab1-b108acad8536"
      },
      "source": [
        "#내장함수\n",
        "dir(__builtins__)"
      ],
      "execution_count": null,
      "outputs": [
        {
          "output_type": "execute_result",
          "data": {
            "text/plain": [
              "['ArithmeticError',\n",
              " 'AssertionError',\n",
              " 'AttributeError',\n",
              " 'BaseException',\n",
              " 'BlockingIOError',\n",
              " 'BrokenPipeError',\n",
              " 'BufferError',\n",
              " 'BytesWarning',\n",
              " 'ChildProcessError',\n",
              " 'ConnectionAbortedError',\n",
              " 'ConnectionError',\n",
              " 'ConnectionRefusedError',\n",
              " 'ConnectionResetError',\n",
              " 'DeprecationWarning',\n",
              " 'EOFError',\n",
              " 'Ellipsis',\n",
              " 'EnvironmentError',\n",
              " 'Exception',\n",
              " 'False',\n",
              " 'FileExistsError',\n",
              " 'FileNotFoundError',\n",
              " 'FloatingPointError',\n",
              " 'FutureWarning',\n",
              " 'GeneratorExit',\n",
              " 'IOError',\n",
              " 'ImportError',\n",
              " 'ImportWarning',\n",
              " 'IndentationError',\n",
              " 'IndexError',\n",
              " 'InterruptedError',\n",
              " 'IsADirectoryError',\n",
              " 'KeyError',\n",
              " 'KeyboardInterrupt',\n",
              " 'LookupError',\n",
              " 'MemoryError',\n",
              " 'ModuleNotFoundError',\n",
              " 'NameError',\n",
              " 'None',\n",
              " 'NotADirectoryError',\n",
              " 'NotImplemented',\n",
              " 'NotImplementedError',\n",
              " 'OSError',\n",
              " 'OverflowError',\n",
              " 'PendingDeprecationWarning',\n",
              " 'PermissionError',\n",
              " 'ProcessLookupError',\n",
              " 'RecursionError',\n",
              " 'ReferenceError',\n",
              " 'ResourceWarning',\n",
              " 'RuntimeError',\n",
              " 'RuntimeWarning',\n",
              " 'StopAsyncIteration',\n",
              " 'StopIteration',\n",
              " 'SyntaxError',\n",
              " 'SyntaxWarning',\n",
              " 'SystemError',\n",
              " 'SystemExit',\n",
              " 'TabError',\n",
              " 'TimeoutError',\n",
              " 'True',\n",
              " 'TypeError',\n",
              " 'UnboundLocalError',\n",
              " 'UnicodeDecodeError',\n",
              " 'UnicodeEncodeError',\n",
              " 'UnicodeError',\n",
              " 'UnicodeTranslateError',\n",
              " 'UnicodeWarning',\n",
              " 'UserWarning',\n",
              " 'ValueError',\n",
              " 'Warning',\n",
              " 'ZeroDivisionError',\n",
              " '__IPYTHON__',\n",
              " '__build_class__',\n",
              " '__debug__',\n",
              " '__doc__',\n",
              " '__import__',\n",
              " '__loader__',\n",
              " '__name__',\n",
              " '__package__',\n",
              " '__spec__',\n",
              " 'abs',\n",
              " 'all',\n",
              " 'any',\n",
              " 'ascii',\n",
              " 'bin',\n",
              " 'bool',\n",
              " 'breakpoint',\n",
              " 'bytearray',\n",
              " 'bytes',\n",
              " 'callable',\n",
              " 'chr',\n",
              " 'classmethod',\n",
              " 'compile',\n",
              " 'complex',\n",
              " 'copyright',\n",
              " 'credits',\n",
              " 'delattr',\n",
              " 'dict',\n",
              " 'dir',\n",
              " 'display',\n",
              " 'divmod',\n",
              " 'dreload',\n",
              " 'enumerate',\n",
              " 'eval',\n",
              " 'exec',\n",
              " 'execfile',\n",
              " 'filter',\n",
              " 'float',\n",
              " 'format',\n",
              " 'frozenset',\n",
              " 'get_ipython',\n",
              " 'getattr',\n",
              " 'globals',\n",
              " 'hasattr',\n",
              " 'hash',\n",
              " 'help',\n",
              " 'hex',\n",
              " 'id',\n",
              " 'input',\n",
              " 'int',\n",
              " 'isinstance',\n",
              " 'issubclass',\n",
              " 'iter',\n",
              " 'len',\n",
              " 'license',\n",
              " 'list',\n",
              " 'locals',\n",
              " 'map',\n",
              " 'max',\n",
              " 'memoryview',\n",
              " 'min',\n",
              " 'next',\n",
              " 'object',\n",
              " 'oct',\n",
              " 'open',\n",
              " 'ord',\n",
              " 'pow',\n",
              " 'print',\n",
              " 'property',\n",
              " 'range',\n",
              " 'repr',\n",
              " 'reversed',\n",
              " 'round',\n",
              " 'runfile',\n",
              " 'set',\n",
              " 'setattr',\n",
              " 'slice',\n",
              " 'sorted',\n",
              " 'staticmethod',\n",
              " 'str',\n",
              " 'sum',\n",
              " 'super',\n",
              " 'tuple',\n",
              " 'type',\n",
              " 'vars',\n",
              " 'zip']"
            ]
          },
          "metadata": {
            "tags": []
          },
          "execution_count": 2
        }
      ]
    },
    {
      "cell_type": "code",
      "metadata": {
        "id": "NCyvofbK8Ab1"
      },
      "source": [
        "#외장함수\n",
        "#import 하여 사용함. 모듈 뒤에 점을 찍어 사용\n",
        "#from 패키지명 inport모듈명 : 원하는 모듈만 특정해서 불러오기\n",
        "#from 모듈명 import함수명 "
      ],
      "execution_count": null,
      "outputs": []
    },
    {
      "cell_type": "code",
      "metadata": {
        "colab": {
          "base_uri": "https://localhost:8080/"
        },
        "id": "UQImCUAh9X-6",
        "outputId": "5c0c413c-fd35-4ed6-cf7e-68eeba3ebbc6"
      },
      "source": [
        "import calendar  # calendar 모듈 import\n",
        "print(calendar.month(2021,5)) # 달력 년월을 지정 출력"
      ],
      "execution_count": null,
      "outputs": [
        {
          "output_type": "stream",
          "text": [
            "      May 2021\n",
            "Mo Tu We Th Fr Sa Su\n",
            "                1  2\n",
            " 3  4  5  6  7  8  9\n",
            "10 11 12 13 14 15 16\n",
            "17 18 19 20 21 22 23\n",
            "24 25 26 27 28 29 30\n",
            "31\n",
            "\n"
          ],
          "name": "stdout"
        }
      ]
    },
    {
      "cell_type": "code",
      "metadata": {
        "colab": {
          "base_uri": "https://localhost:8080/"
        },
        "id": "kMo2_Nop9ZUU",
        "outputId": "772cdd61-e44e-475d-febd-a500adf21ea1"
      },
      "source": [
        "from calendar import month  # calendar 모듈 import\n",
        "print(month(2021,5)) # 달력 년월을 지정 출력"
      ],
      "execution_count": null,
      "outputs": [
        {
          "output_type": "stream",
          "text": [
            "      May 2021\n",
            "Mo Tu We Th Fr Sa Su\n",
            "                1  2\n",
            " 3  4  5  6  7  8  9\n",
            "10 11 12 13 14 15 16\n",
            "17 18 19 20 21 22 23\n",
            "24 25 26 27 28 29 30\n",
            "31\n",
            "\n"
          ],
          "name": "stdout"
        }
      ]
    },
    {
      "cell_type": "code",
      "metadata": {
        "colab": {
          "base_uri": "https://localhost:8080/"
        },
        "id": "U4vKxTrB9f7Z",
        "outputId": "0a7b9e58-2215-405a-e223-7e5090f4ff97"
      },
      "source": [
        "#오늘날짜 구하기\n",
        "import datetime\n",
        "date1 = datetime.date.today()\n",
        "date2 = datetime.date(2000,3,29)\n",
        "print(date1-date2)"
      ],
      "execution_count": null,
      "outputs": [
        {
          "output_type": "stream",
          "text": [
            "7735 days, 0:00:00\n"
          ],
          "name": "stdout"
        }
      ]
    },
    {
      "cell_type": "code",
      "metadata": {
        "colab": {
          "base_uri": "https://localhost:8080/"
        },
        "id": "CG-ch0-h-xC9",
        "outputId": "29fb9e87-930a-470c-c6e3-7540d0ea01de"
      },
      "source": [
        "import random\n",
        "a = random.random() # Random float x, 0.0 <= x < 1.0\n",
        "\n",
        "#2개의 숫자 사이의 랜덤 실수를 리턴합니다.\n",
        "b = random.uniform(1, 10) # Random float x, 1.0 <= x < 10.0\n",
        "\n",
        "\n",
        "#2개의 숫자 사이의 랜덤 정수를 리턴합니다. (2번째 인자로 넘어온 정수도 범위에 포함시킴)\n",
        "c =random.randint(1, 10) # Integer from 1 to 10, endpoints included\n",
        "\n",
        "\n",
        "#range(start, stop, step) 함수로 만들어지는 정수 중에 하나를 랜덤하게 리턴합니다.\n",
        "d=random.randrange(0, 101, 2)  # Even integer from 0 to 100\n",
        "\n",
        "#choice() 함수 랜덤하게 하나의 원소를 선택합니다.\n",
        "e = random.choice('abcdefghij') # Choose a random element \n",
        "f = random.choice(['가위','바위','보'])\n",
        "\n",
        "print(a,b,c,d,e,f)"
      ],
      "execution_count": null,
      "outputs": [
        {
          "output_type": "stream",
          "text": [
            "0.6953767959909682 2.0617826217653645 5 28 j 보\n"
          ],
          "name": "stdout"
        }
      ]
    },
    {
      "cell_type": "code",
      "metadata": {
        "colab": {
          "base_uri": "https://localhost:8080/"
        },
        "id": "O4TCeJ6l-9Oc",
        "outputId": "ffeea220-fd6e-4750-beae-cafde68dc468"
      },
      "source": [
        "import random\n",
        "a = random.random()\n",
        "b = random.uniform(1,10)\n",
        "c = random.randint(1,10)\n",
        "d = random.randrange(0,101,2)\n",
        "e= random.choice('abcdefghij')\n",
        "f = random.choice(['가위','바위','보'])\n",
        "a=['가위','바위','보']\n",
        "random.shuffle(a)\n",
        "print(a)\n",
        "print(a,b,c,d,e,f)"
      ],
      "execution_count": null,
      "outputs": [
        {
          "output_type": "stream",
          "text": [
            "['보', '가위', '바위']\n",
            "['보', '가위', '바위'] 4.595637674773512 9 18 h 바위\n"
          ],
          "name": "stdout"
        }
      ]
    },
    {
      "cell_type": "code",
      "metadata": {
        "colab": {
          "base_uri": "https://localhost:8080/"
        },
        "id": "UC9Weh08_zwU",
        "outputId": "3340a029-8ace-4b55-8bc8-e78cbb882b10"
      },
      "source": [
        "#함수 선언: def 함수명(매개변수):필요한 만큼 기술, 반환값은 없거나 한개\n",
        "def sum1(a,b):#함수명, 매개변수\n",
        "    c = a+b\n",
        "    return c#리턴값\n",
        "sum1(4,5)"
      ],
      "execution_count": null,
      "outputs": [
        {
          "output_type": "execute_result",
          "data": {
            "text/plain": [
              "9"
            ]
          },
          "metadata": {
            "tags": []
          },
          "execution_count": 16
        }
      ]
    },
    {
      "cell_type": "code",
      "metadata": {
        "colab": {
          "base_uri": "https://localhost:8080/"
        },
        "id": "VpqfJPhZB0B_",
        "outputId": "22e3f126-9f1c-47a9-b8dc-6a05d28ef3e1"
      },
      "source": [
        "def say_hello():\n",
        "    print('안녕하세요!!')\n",
        "    print('나는윤지선입니다!!!!!')\n",
        "    print('브라우니 먹고싶다악!!!')\n",
        "for i in range(3):\n",
        "     say_hello() \n"
      ],
      "execution_count": null,
      "outputs": [
        {
          "output_type": "stream",
          "text": [
            "안녕하세요!!\n",
            "나는윤지선입니다!!!!!\n",
            "브라우니 먹고싶다악!!!\n",
            "안녕하세요!!\n",
            "나는윤지선입니다!!!!!\n",
            "브라우니 먹고싶다악!!!\n",
            "안녕하세요!!\n",
            "나는윤지선입니다!!!!!\n",
            "브라우니 먹고싶다악!!!\n"
          ],
          "name": "stdout"
        }
      ]
    },
    {
      "cell_type": "code",
      "metadata": {
        "colab": {
          "base_uri": "https://localhost:8080/"
        },
        "id": "NmIJp8A2CTGs",
        "outputId": "fddff42e-9fc5-4955-d372-797afd8cc52a"
      },
      "source": [
        "def say_hello(name1,name2):\n",
        "    print(f'''야 {name1},{name2}야,\n",
        "방이너무 더럽다.\n",
        "바닥좀 닦아라''')\n",
        "    \n",
        "say_hello('까미','지선이')\n"
      ],
      "execution_count": 1,
      "outputs": [
        {
          "output_type": "stream",
          "text": [
            "야 까미,지선이야,\n",
            "방이너무 더럽다.\n",
            "바닥좀 닦아라\n"
          ],
          "name": "stdout"
        }
      ]
    },
    {
      "cell_type": "code",
      "metadata": {
        "colab": {
          "base_uri": "https://localhost:8080/"
        },
        "id": "ISJoL46XDEMO",
        "outputId": "ae41c518-7977-45f0-edbc-fecf3141de46"
      },
      "source": [
        "def circle_area(radius):\n",
        "    area = 3.14 * radius **2\n",
        "    return area\n",
        "radius = float(input('반지름: '))#전역변수\n",
        "print(circle_area(radius))"
      ],
      "execution_count": 4,
      "outputs": [
        {
          "output_type": "stream",
          "text": [
            "반지름: 5\n",
            "78.5\n"
          ],
          "name": "stdout"
        }
      ]
    },
    {
      "cell_type": "code",
      "metadata": {
        "colab": {
          "base_uri": "https://localhost:8080/"
        },
        "id": "cntnT5orGgqa",
        "outputId": "6c0c8909-ccdf-4f99-8a24-0d6ceb9956f5"
      },
      "source": [
        "def get_plus(num1, num2):\n",
        "    result = num1 * num2 \n",
        "    return result\n",
        "\n",
        "get_plus(3,2)"
      ],
      "execution_count": null,
      "outputs": [
        {
          "output_type": "execute_result",
          "data": {
            "text/plain": [
              "6"
            ]
          },
          "metadata": {
            "tags": []
          },
          "execution_count": 34
        }
      ]
    },
    {
      "cell_type": "code",
      "metadata": {
        "colab": {
          "base_uri": "https://localhost:8080/"
        },
        "id": "re8jgkoWHkDl",
        "outputId": "dc7651c2-02b4-4cf0-da0d-95544b033a3a"
      },
      "source": [
        "def get_plus_minus(num1,num2):\n",
        "    plus = num1 + num2\n",
        "    minus = num1 - num2\n",
        "    return plus,minus\n",
        "    \n",
        "get_plus_minus(1,2)"
      ],
      "execution_count": null,
      "outputs": [
        {
          "output_type": "execute_result",
          "data": {
            "text/plain": [
              "(3, 2)"
            ]
          },
          "metadata": {
            "tags": []
          },
          "execution_count": 36
        }
      ]
    },
    {
      "cell_type": "code",
      "metadata": {
        "colab": {
          "base_uri": "https://localhost:8080/"
        },
        "id": "4CR-81buICOw",
        "outputId": "1876be2f-19fd-4326-c86c-755b264ffee2"
      },
      "source": [
        "def get_plus_minus_x(num1,num2,num3):\n",
        "    plus = num1 + num2\n",
        "    minus = num1 - num2 #지역변수\n",
        "    x = num1 * num3\n",
        "    return plus,minus, x\n",
        " #if a != 0 : 나눗셈일때 정의   \n",
        "get_plus_minus_x(1,2,0)"
      ],
      "execution_count": null,
      "outputs": [
        {
          "output_type": "stream",
          "text": [
            "aaa\n"
          ],
          "name": "stdout"
        },
        {
          "output_type": "execute_result",
          "data": {
            "text/plain": [
              "(3, -1, 0)"
            ]
          },
          "metadata": {
            "tags": []
          },
          "execution_count": 41
        }
      ]
    },
    {
      "cell_type": "code",
      "metadata": {
        "colab": {
          "base_uri": "https://localhost:8080/"
        },
        "id": "4vjOZGAuI2ME",
        "outputId": "4ea9209b-e9c4-4d24-d33d-00e190b3fce4"
      },
      "source": [
        "def get_div(num1,num2):\n",
        "    result = 0 \n",
        "    if num2 == 0:\n",
        "        print('다른수를 입력하세요')\n",
        "    else:\n",
        "        result = num1/num2\n",
        "    return result\n",
        "    \n",
        "get_div(2,0)"
      ],
      "execution_count": null,
      "outputs": [
        {
          "output_type": "stream",
          "text": [
            "다른수를 입력하세요\n"
          ],
          "name": "stdout"
        },
        {
          "output_type": "execute_result",
          "data": {
            "text/plain": [
              "0"
            ]
          },
          "metadata": {
            "tags": []
          },
          "execution_count": 44
        }
      ]
    },
    {
      "cell_type": "code",
      "metadata": {
        "id": "K6ryfkTSKo9Q"
      },
      "source": [
        "#함수내에서 생성한 변수를 지역변수, 함수 밖에서 생성한 변수를 전역변수라고 한다.\n",
        "#함수 내에서 만든 변수는 함수밖에서 사용할 수 없다. 전역변수는 함수 내에서 사용이 가능하다. "
      ],
      "execution_count": null,
      "outputs": []
    },
    {
      "cell_type": "code",
      "metadata": {
        "colab": {
          "base_uri": "https://localhost:8080/"
        },
        "id": "VIbXXniiMvXV",
        "outputId": "bc487e99-5dc8-4fa2-9497-4fa832901839"
      },
      "source": [
        "def circle_area():\n",
        "    area = 3.14 * radius ** 2\n",
        "    return area #반환값 소멸됨 그래서 밑에 0 됨\n",
        "area = 0\n",
        "radius = float(input('반지름:'))\n",
        "print('원의 넓이:',circle_area())\n",
        "print(area) ﻿\n",
        "\n",
        "#변경안됨, 함수에서 area계산되었지만 전역변수 값은 변경되지 않음, 함수에서 전역변수를 직접 사용한게 아니라 동일한 이름과 값을 가진 지역변수를 새롭게 만들어 사용하기 때문이다.새롭"
      ],
      "execution_count": null,
      "outputs": [
        {
          "output_type": "stream",
          "text": [
            "반지름:3\n",
            "원의 넓이: 28.26\n",
            "0\n"
          ],
          "name": "stdout"
        }
      ]
    },
    {
      "cell_type": "code",
      "metadata": {
        "colab": {
          "base_uri": "https://localhost:8080/"
        },
        "id": "QECa20eFM7Xh",
        "outputId": "6deaa90b-5681-4f3e-fc84-593a9b9b5a9d"
      },
      "source": [
        "#함수안에서 전역변수 값 변경하려면 global 키워드를 사용해야 한다.\n",
        "def circle_area():\n",
        "    global area#예약어라 밖에서도 사용한다는 뜻\n",
        "    area = 3.14 * radius ** 2\n",
        "    return area\n",
        "area = 0#초기값 준거임\n",
        "radius = float(input('반지름:'))\n",
        "print('원의 넓이:',circle_area())\n",
        "print(area) #변경, global 키워드를 사용하면 전역변수를 직접 사용하게 된다."
      ],
      "execution_count": null,
      "outputs": [
        {
          "output_type": "stream",
          "text": [
            "반지름:3\n",
            "원의 넓이: 28.26\n",
            "28.26\n"
          ],
          "name": "stdout"
        }
      ]
    },
    {
      "cell_type": "code",
      "metadata": {
        "colab": {
          "base_uri": "https://localhost:8080/"
        },
        "id": "hdEWwj7cNcRp",
        "outputId": "69593770-fe46-4201-b40d-89fdbeddd746"
      },
      "source": [
        "#디폴트 인수: 매개변수의 개수와 인수의 개수가 다르면 에러가 발생한다.\n",
        "def greet(name, msg):\n",
        "    print(f'안녕 {name},{msg}')\n",
        "greet('철수','좋은 아침이야')"
      ],
      "execution_count": null,
      "outputs": [
        {
          "output_type": "stream",
          "text": [
            "안녕 철수,좋은 아침이야\n"
          ],
          "name": "stdout"
        }
      ]
    },
    {
      "cell_type": "code",
      "metadata": {
        "colab": {
          "base_uri": "https://localhost:8080/",
          "height": 198
        },
        "id": "dwEaJBiEO-Km",
        "outputId": "74259645-e436-4361-b409-efe8525ce5fd"
      },
      "source": [
        "# greet() missing 1 required positional argument: 'msg'\n",
        "def greet(name,msg):\n",
        "    print(f'안녕 {name},{msg}')\n",
        "greet('철수')"
      ],
      "execution_count": null,
      "outputs": [
        {
          "output_type": "error",
          "ename": "TypeError",
          "evalue": "ignored",
          "traceback": [
            "\u001b[0;31m---------------------------------------------------------------------------\u001b[0m",
            "\u001b[0;31mTypeError\u001b[0m                                 Traceback (most recent call last)",
            "\u001b[0;32m<ipython-input-55-f03df1934f4c>\u001b[0m in \u001b[0;36m<module>\u001b[0;34m()\u001b[0m\n\u001b[1;32m      2\u001b[0m \u001b[0;32mdef\u001b[0m \u001b[0mgreet\u001b[0m\u001b[0;34m(\u001b[0m\u001b[0mname\u001b[0m\u001b[0;34m,\u001b[0m\u001b[0mmsg\u001b[0m\u001b[0;34m)\u001b[0m\u001b[0;34m:\u001b[0m\u001b[0;34m\u001b[0m\u001b[0;34m\u001b[0m\u001b[0m\n\u001b[1;32m      3\u001b[0m     \u001b[0mprint\u001b[0m\u001b[0;34m(\u001b[0m\u001b[0;34mf'안녕 {name},{msg}'\u001b[0m\u001b[0;34m)\u001b[0m\u001b[0;34m\u001b[0m\u001b[0;34m\u001b[0m\u001b[0m\n\u001b[0;32m----> 4\u001b[0;31m \u001b[0mgreet\u001b[0m\u001b[0;34m(\u001b[0m\u001b[0;34m'철수'\u001b[0m\u001b[0;34m)\u001b[0m\u001b[0;34m\u001b[0m\u001b[0;34m\u001b[0m\u001b[0m\n\u001b[0m",
            "\u001b[0;31mTypeError\u001b[0m: greet() missing 1 required positional argument: 'msg'"
          ]
        }
      ]
    },
    {
      "cell_type": "code",
      "metadata": {
        "colab": {
          "base_uri": "https://localhost:8080/"
        },
        "id": "8UEKwR8jPE-E",
        "outputId": "ae9a56f2-8d57-40f3-8ab8-d471567b3cad"
      },
      "source": [
        "# 인수 부족 시 기본값 사용\n",
        "def greet(name='친구',msg='잘 지내니?'):\n",
        "    print(f'안녕 {name},{msg}')\n",
        "greet('영희','오랜만이야')"
      ],
      "execution_count": null,
      "outputs": [
        {
          "output_type": "stream",
          "text": [
            "안녕 영희,오랜만이야\n"
          ],
          "name": "stdout"
        }
      ]
    },
    {
      "cell_type": "code",
      "metadata": {
        "colab": {
          "base_uri": "https://localhost:8080/"
        },
        "id": "3ZqGl2dEPI-r",
        "outputId": "6b985c12-e550-46cc-c05d-66de947e87d4"
      },
      "source": [
        "# 인수 부족 시 기본값 사용\n",
        "def greet(name='친구',msg='잘 지내니?'):\n",
        "    print(f'안녕 {name},{msg}')\n",
        "greet('영희')"
      ],
      "execution_count": null,
      "outputs": [
        {
          "output_type": "stream",
          "text": [
            "안녕 영희,잘 지내니?\n"
          ],
          "name": "stdout"
        }
      ]
    },
    {
      "cell_type": "code",
      "metadata": {
        "colab": {
          "base_uri": "https://localhost:8080/"
        },
        "id": "e_OLYhhbPf45",
        "outputId": "7f50e23f-52e2-4908-92bd-13bed959c207"
      },
      "source": [
        "# 인수 부족 시 기본값 사용\n",
        "def greet(name='친구',msg='잘 지내니?'):\n",
        "    print(f'안녕 {name},{msg}')\n",
        "greet()"
      ],
      "execution_count": null,
      "outputs": [
        {
          "output_type": "stream",
          "text": [
            "안녕 친구,잘 지내니?\n"
          ],
          "name": "stdout"
        }
      ]
    },
    {
      "cell_type": "code",
      "metadata": {
        "colab": {
          "base_uri": "https://localhost:8080/"
        },
        "id": "PBY5Nr2KPilH",
        "outputId": "f9ed3877-7c54-43ed-a615-22d49a0af895"
      },
      "source": [
        "# 인수 부족 시 기본값 사용\n",
        "def greet(name = '친구',msg = '잘 지내니?'):\n",
        "    print(f'안녕 {name},{msg}')\n",
        "greet('잘지내니') #처음 인수는 생략할 수 없음, msg만 넣는 거 안됨."
      ],
      "execution_count": null,
      "outputs": [
        {
          "output_type": "stream",
          "text": [
            "안녕 잘지내니,잘 지내니?\n"
          ],
          "name": "stdout"
        }
      ]
    },
    {
      "cell_type": "code",
      "metadata": {
        "colab": {
          "base_uri": "https://localhost:8080/"
        },
        "id": "hV4zJO9lPnH4",
        "outputId": "1e81e2e7-ef14-41ba-b859-8ff816cc0121"
      },
      "source": [
        "#키워드 인수:위치인수와 키워드 인수를 혼합해서 사용할 수 있지만 위치 인수를 먼저 사용해야 한다.\n",
        "def calc(x,y,z):\n",
        "    result = x,y,z\n",
        "    return result\n",
        "calc(1,z=5,y=3)#위치 인수를 먼저 사용"
      ],
      "execution_count": null,
      "outputs": [
        {
          "output_type": "execute_result",
          "data": {
            "text/plain": [
              "(1, 3, 5)"
            ]
          },
          "metadata": {
            "tags": []
          },
          "execution_count": 61
        }
      ]
    },
    {
      "cell_type": "code",
      "metadata": {
        "colab": {
          "base_uri": "https://localhost:8080/",
          "height": 130
        },
        "id": "witF4VGqQHUU",
        "outputId": "4179d5d9-961a-4973-d506-9b7bcd959519"
      },
      "source": [
        "def calc(x,y,z):\n",
        "    result = x,y,z\n",
        "    return result\n",
        "calc(x=1,3,5)#키워드 인수를 먼저 사용하면 에러"
      ],
      "execution_count": null,
      "outputs": [
        {
          "output_type": "error",
          "ename": "SyntaxError",
          "evalue": "ignored",
          "traceback": [
            "\u001b[0;36m  File \u001b[0;32m\"<ipython-input-62-0dd1011b4cd9>\"\u001b[0;36m, line \u001b[0;32m4\u001b[0m\n\u001b[0;31m    calc(x=1,3,5)\u001b[0m\n\u001b[0m            ^\u001b[0m\n\u001b[0;31mSyntaxError\u001b[0m\u001b[0;31m:\u001b[0m positional argument follows keyword argument\n"
          ]
        }
      ]
    },
    {
      "cell_type": "code",
      "metadata": {
        "colab": {
          "base_uri": "https://localhost:8080/",
          "height": 130
        },
        "id": "iHxxicA0Q1IH",
        "outputId": "72e2fae8-6150-42d1-8809-56c6f267a408"
      },
      "source": [
        "def calc(x,y,z):\n",
        "    result = x,y,z\n",
        "    return result\n",
        "calc(x=1,5,y=3)#위치변수 두번째 들어가도 에러 but"
      ],
      "execution_count": null,
      "outputs": [
        {
          "output_type": "error",
          "ename": "SyntaxError",
          "evalue": "ignored",
          "traceback": [
            "\u001b[0;36m  File \u001b[0;32m\"<ipython-input-66-497b3d23caef>\"\u001b[0;36m, line \u001b[0;32m4\u001b[0m\n\u001b[0;31m    calc(x=1,5,y=3)#위치변수 두번째들어가도 에러\u001b[0m\n\u001b[0m            ^\u001b[0m\n\u001b[0;31mSyntaxError\u001b[0m\u001b[0;31m:\u001b[0m positional argument follows keyword argument\n"
          ]
        }
      ]
    },
    {
      "cell_type": "code",
      "metadata": {
        "colab": {
          "base_uri": "https://localhost:8080/"
        },
        "id": "68vCqqEHQchL",
        "outputId": "912819e2-f80b-4c5c-a6ad-fddddefb8e87"
      },
      "source": [
        "def calc(x,y,z):\n",
        "    result = x,y,z\n",
        "    return result\n",
        "calc(x=1,z=5,y=3)"
      ],
      "execution_count": null,
      "outputs": [
        {
          "output_type": "execute_result",
          "data": {
            "text/plain": [
              "(1, 3, 5)"
            ]
          },
          "metadata": {
            "tags": []
          },
          "execution_count": 64
        }
      ]
    },
    {
      "cell_type": "code",
      "metadata": {
        "colab": {
          "base_uri": "https://localhost:8080/",
          "height": 130
        },
        "id": "or_wiYgsQkYz",
        "outputId": "2fcaed8b-35d6-4d1e-d571-a4772e2694bf"
      },
      "source": [
        "def calc(x,y,z):\n",
        "    result = x,y,z\n",
        "    return result\n",
        "calc(x=1,z=5,3)"
      ],
      "execution_count": null,
      "outputs": [
        {
          "output_type": "error",
          "ename": "SyntaxError",
          "evalue": "ignored",
          "traceback": [
            "\u001b[0;36m  File \u001b[0;32m\"<ipython-input-68-5931ce5d942e>\"\u001b[0;36m, line \u001b[0;32m4\u001b[0m\n\u001b[0;31m    calc(x=1,z=5,3)\u001b[0m\n\u001b[0m                ^\u001b[0m\n\u001b[0;31mSyntaxError\u001b[0m\u001b[0;31m:\u001b[0m positional argument follows keyword argument\n"
          ]
        }
      ]
    },
    {
      "cell_type": "code",
      "metadata": {
        "colab": {
          "base_uri": "https://localhost:8080/"
        },
        "id": "1YDsPb3oRMB_",
        "outputId": "3954cd9a-82e5-47ba-bdcc-4c00c7544712"
      },
      "source": [
        "#매개변수 *args:매개변수의 개수가 가변적일 때 사용한다.\n",
        "def average(*args):#args는 튜플 데이터 형이다.\n",
        "    print(args)\n",
        "    avrg = sum(args) / len(args)\n",
        "    return avrg\n",
        "print(int(average(1,2,3)))\n",
        "print(average(1,2,3,4,5))"
      ],
      "execution_count": 1,
      "outputs": [
        {
          "output_type": "stream",
          "text": [
            "(1, 2, 3)\n",
            "2\n",
            "(1, 2, 3, 4, 5)\n",
            "3.0\n"
          ],
          "name": "stdout"
        }
      ]
    },
    {
      "cell_type": "code",
      "metadata": {
        "colab": {
          "base_uri": "https://localhost:8080/"
        },
        "id": "7g0XU83BVDPd",
        "outputId": "c4e734c3-ae52-4dbe-ed60-dfe77e22240d"
      },
      "source": [
        "def average(*a):#args는 튜플 데이터 형이다.\n",
        "    avrg = sum(a) / len(a)\n",
        "    return avrg\n",
        "print(int(average(1,2,3)))\n",
        "print(average(1,2,3,4,5))"
      ],
      "execution_count": null,
      "outputs": [
        {
          "output_type": "stream",
          "text": [
            "2\n",
            "3.0\n"
          ],
          "name": "stdout"
        }
      ]
    },
    {
      "cell_type": "code",
      "metadata": {
        "colab": {
          "base_uri": "https://localhost:8080/"
        },
        "id": "AYYr_44kVrec",
        "outputId": "32433b52-0e9d-413e-98bc-227190ebf25a"
      },
      "source": [
        "def average(*a):#args는 튜플 데이터 형이다.\n",
        "    avrg = max(a)\n",
        "    return avrg\n",
        "print(int(average(1,2,3)))\n",
        "print(average(1,2,3,4,5))"
      ],
      "execution_count": null,
      "outputs": [
        {
          "output_type": "stream",
          "text": [
            "3\n",
            "5\n"
          ],
          "name": "stdout"
        }
      ]
    },
    {
      "cell_type": "code",
      "metadata": {
        "colab": {
          "base_uri": "https://localhost:8080/"
        },
        "id": "3EyYY02YV2MC",
        "outputId": "d0793ec8-ee19-45c3-fb23-12ebeeac33d5"
      },
      "source": [
        "def average(*a):\n",
        "    avrg = min(a)+max(a)\n",
        "    return avrg\n",
        "print(int(average(1,2,3)))\n",
        "print(average(1,2,3,4,5))"
      ],
      "execution_count": null,
      "outputs": [
        {
          "output_type": "stream",
          "text": [
            "4\n",
            "6\n"
          ],
          "name": "stdout"
        }
      ]
    },
    {
      "cell_type": "code",
      "metadata": {
        "colab": {
          "base_uri": "https://localhost:8080/"
        },
        "id": "T9aBSL-fV5gC",
        "outputId": "9c4293a6-e582-4970-fc91-d97d42b0b8a3"
      },
      "source": [
        "#소수여부 판단하기\n",
        "#소수는 1과 자기자신만으로 나누어ㄸ러어지는 1보다 큰 양의 정수를 의미한다.\n",
        "#키보드로 입력된 수가 소수인지 아닌지 판별하는 함수를 작성하시옹\n",
        "def is_prime(number):\n",
        "    #소수여부 판단하여 리턴\n",
        "    #소수:True, 소수가 아님:False\n",
        "    if number < 2:\n",
        "        return False\n",
        "\n",
        "    for i in range(2,number):\n",
        "        if number% i == 0:\n",
        "            return False\n",
        "    return True\n",
        "input_number = int(input('숫자:'))\n",
        "if is_prime(input_number):\n",
        "    print('소수입니다.')\n",
        "else:\n",
        "    print('소수가 아닙니다.')"
      ],
      "execution_count": null,
      "outputs": [
        {
          "output_type": "stream",
          "text": [
            "숫자:5\n",
            "소수입니다.\n"
          ],
          "name": "stdout"
        }
      ]
    },
    {
      "cell_type": "code",
      "metadata": {
        "colab": {
          "base_uri": "https://localhost:8080/"
        },
        "id": "mlJ5XFWhXd_m",
        "outputId": "5b168544-fe2d-4220-dda8-29ee8fa721d0"
      },
      "source": [
        "#홀짝?\n",
        "def is_prime(number):\n",
        "    #소수여부 판단하여 리턴\n",
        "    #소수:True, 소수가 아님:False\n",
        "    if number < 2:\n",
        "        return False\n",
        "\n",
        "    for i in range(2,number):\n",
        "        if number% i == 0:\n",
        "            return False\n",
        "    return True\n",
        "input_number = int(input('숫자:'))\n",
        "if is_prime(input_number):\n",
        "    print('소수입니다.')\n",
        "else:\n",
        "    print('소수가 아닙니다.')\n",
        "    "
      ],
      "execution_count": null,
      "outputs": [
        {
          "output_type": "stream",
          "text": [
            "숫자:51\n",
            "소수가 아닙니다.\n"
          ],
          "name": "stdout"
        }
      ]
    },
    {
      "cell_type": "code",
      "metadata": {
        "id": "X1dHSQi3Yr8E"
      },
      "source": [
        "#함수두개 사용해서 코드 작성하기???\n"
      ],
      "execution_count": null,
      "outputs": []
    },
    {
      "cell_type": "code",
      "metadata": {
        "colab": {
          "base_uri": "https://localhost:8080/"
        },
        "id": "AbjijFsRZaQG",
        "outputId": "ee7d6bf8-1393-4e8e-87fb-69038f685036"
      },
      "source": [
        "def a(number):\n",
        "    if number % 2 == 0:\n",
        "      return True\n",
        "    else:\n",
        "       return False\n",
        "    \n",
        "num=int(input('숫자:'))\n",
        "if a(num):\n",
        "    print('짝수입니다.')\n",
        "else:\n",
        "    print('홀수입니다.')\n"
      ],
      "execution_count": null,
      "outputs": [
        {
          "output_type": "stream",
          "text": [
            "숫자:3\n",
            "홀수입니다.\n"
          ],
          "name": "stdout"
        }
      ]
    },
    {
      "cell_type": "code",
      "metadata": {
        "colab": {
          "base_uri": "https://localhost:8080/"
        },
        "id": "I96WRKIzZgb7",
        "outputId": "c6cbe392-27f0-4edd-8c17-58b4740ac960"
      },
      "source": [
        "def a(number):\n",
        "    if number % 2 == 0:\n",
        "        True\n",
        "    else:\n",
        "        False\n",
        "    \n",
        "num=int(input('숫자:'))\n",
        "if a(num):\n",
        "    print('짝수입니다.')\n",
        "else:\n",
        "    print('홀수입니다.')\n",
        "print(a(num))"
      ],
      "execution_count": null,
      "outputs": [
        {
          "output_type": "stream",
          "text": [
            "숫자:4\n",
            "홀수입니다.\n",
            "None\n"
          ],
          "name": "stdout"
        }
      ]
    },
    {
      "cell_type": "code",
      "metadata": {
        "id": "2F0u_oN5bPle"
      },
      "source": [
        "%matplotlib inline\n",
        "\n",
        "import matplotlib as mpl\n",
        "\n",
        "import matplotlib.pyplot as plt\n",
        "\n",
        "import matplotlib.font_manager as fm\n",
        "\n",
        "mpl.rcParams['axes.unicode_minus'] = False\n"
      ],
      "execution_count": null,
      "outputs": []
    },
    {
      "cell_type": "code",
      "metadata": {
        "colab": {
          "base_uri": "https://localhost:8080/"
        },
        "id": "iqKkSNUGch91",
        "outputId": "21829ea9-62b1-4fe4-b6e6-f8fb964a64db"
      },
      "source": [
        "import numpy as np\n",
        "\n",
        "data = np.random.randint(-100, 100, 50).cumsum()\n",
        "\n",
        "data\n"
      ],
      "execution_count": null,
      "outputs": [
        {
          "output_type": "execute_result",
          "data": {
            "text/plain": [
              "array([  61,  151,  139,  167,  147,  196,  201,  121,   86,    8,   90,\n",
              "          0,   97,   87,   78,   89,   -8,   72,   99,  129,  162,   72,\n",
              "        154,  117,   60,   51,   54,  133,  166,  102,   37,   41,   92,\n",
              "         34,   61,  126,   91,  158,  139,  215,  140,  126,   27,   -4,\n",
              "        -38,  -81, -121,  -37, -112,  -17])"
            ]
          },
          "metadata": {
            "tags": []
          },
          "execution_count": 91
        }
      ]
    },
    {
      "cell_type": "code",
      "metadata": {
        "colab": {
          "base_uri": "https://localhost:8080/",
          "height": 791
        },
        "id": "ZNi3ZNJAcmX2",
        "outputId": "4745bdfa-be10-4cf8-ee9c-2c53f6c23e5f"
      },
      "source": [
        "plt.plot(range(50), data, 'r')\n",
        "\n",
        "mpl.rcParams['axes.unicode_minus'] = False\n",
        "\n",
        "plt.title('타이틀')\n",
        "\n",
        "plt.ylabel('와이값')\n",
        "\n",
        "plt.xlabel('엑스값')\n"
      ],
      "execution_count": null,
      "outputs": [
        {
          "output_type": "execute_result",
          "data": {
            "text/plain": [
              "Text(0.5, 0, '엑스값')"
            ]
          },
          "metadata": {
            "tags": []
          },
          "execution_count": 92
        },
        {
          "output_type": "stream",
          "text": [
            "/usr/local/lib/python3.7/dist-packages/matplotlib/backends/backend_agg.py:214: RuntimeWarning: Glyph 53440 missing from current font.\n",
            "  font.set_text(s, 0.0, flags=flags)\n",
            "/usr/local/lib/python3.7/dist-packages/matplotlib/backends/backend_agg.py:214: RuntimeWarning: Glyph 51060 missing from current font.\n",
            "  font.set_text(s, 0.0, flags=flags)\n",
            "/usr/local/lib/python3.7/dist-packages/matplotlib/backends/backend_agg.py:214: RuntimeWarning: Glyph 53952 missing from current font.\n",
            "  font.set_text(s, 0.0, flags=flags)\n",
            "/usr/local/lib/python3.7/dist-packages/matplotlib/backends/backend_agg.py:214: RuntimeWarning: Glyph 50641 missing from current font.\n",
            "  font.set_text(s, 0.0, flags=flags)\n",
            "/usr/local/lib/python3.7/dist-packages/matplotlib/backends/backend_agg.py:214: RuntimeWarning: Glyph 49828 missing from current font.\n",
            "  font.set_text(s, 0.0, flags=flags)\n",
            "/usr/local/lib/python3.7/dist-packages/matplotlib/backends/backend_agg.py:214: RuntimeWarning: Glyph 44050 missing from current font.\n",
            "  font.set_text(s, 0.0, flags=flags)\n",
            "/usr/local/lib/python3.7/dist-packages/matplotlib/backends/backend_agg.py:183: RuntimeWarning: Glyph 50641 missing from current font.\n",
            "  font.set_text(s, 0, flags=flags)\n",
            "/usr/local/lib/python3.7/dist-packages/matplotlib/backends/backend_agg.py:183: RuntimeWarning: Glyph 49828 missing from current font.\n",
            "  font.set_text(s, 0, flags=flags)\n",
            "/usr/local/lib/python3.7/dist-packages/matplotlib/backends/backend_agg.py:183: RuntimeWarning: Glyph 44050 missing from current font.\n",
            "  font.set_text(s, 0, flags=flags)\n",
            "/usr/local/lib/python3.7/dist-packages/matplotlib/backends/backend_agg.py:214: RuntimeWarning: Glyph 50752 missing from current font.\n",
            "  font.set_text(s, 0.0, flags=flags)\n",
            "/usr/local/lib/python3.7/dist-packages/matplotlib/backends/backend_agg.py:183: RuntimeWarning: Glyph 50752 missing from current font.\n",
            "  font.set_text(s, 0, flags=flags)\n",
            "/usr/local/lib/python3.7/dist-packages/matplotlib/backends/backend_agg.py:183: RuntimeWarning: Glyph 51060 missing from current font.\n",
            "  font.set_text(s, 0, flags=flags)\n",
            "/usr/local/lib/python3.7/dist-packages/matplotlib/backends/backend_agg.py:183: RuntimeWarning: Glyph 53440 missing from current font.\n",
            "  font.set_text(s, 0, flags=flags)\n",
            "/usr/local/lib/python3.7/dist-packages/matplotlib/backends/backend_agg.py:183: RuntimeWarning: Glyph 53952 missing from current font.\n",
            "  font.set_text(s, 0, flags=flags)\n"
          ],
          "name": "stderr"
        },
        {
          "output_type": "display_data",
          "data": {
            "image/png": "[encoded data removed]",
            "text/plain": [
              "<Figure size 432x288 with 1 Axes>"
            ]
          },
          "metadata": {
            "tags": [],
            "needs_background": "light"
          }
        }
      ]
    },
    {
      "cell_type": "code",
      "metadata": {
        "colab": {
          "base_uri": "https://localhost:8080/"
        },
        "id": "dhBQi8V7cwf6",
        "outputId": "41fd8d3c-9d0d-47c9-c07e-50a119fc5c3a"
      },
      "source": [
        "def today_menu(*menu):\n",
        "    for i in menu:\n",
        "        print(i)\n",
        "print(\"==오늘의 메뉴 ==\")\n",
        "today_menu('김밥','떡볶이','오뎅')"
      ],
      "execution_count": null,
      "outputs": [
        {
          "output_type": "stream",
          "text": [
            "==오늘의 메뉴 ==\n",
            "김밥\n",
            "떡볶이\n",
            "오뎅\n"
          ],
          "name": "stdout"
        }
      ]
    },
    {
      "cell_type": "code",
      "metadata": {
        "colab": {
          "base_uri": "https://localhost:8080/"
        },
        "id": "5oymqqTSlQXV",
        "outputId": "6a42e737-30ed-4a8a-d36c-589604513019"
      },
      "source": [
        "def today_menu(*menu):\n",
        "    for i in range(len(menu)):\n",
        "        print(menu[i])\n",
        "        \n",
        "print(\"==오늘의 메뉴 ==\")\n",
        "today_menu('김밥','떡볶이','오뎅')"
      ],
      "execution_count": null,
      "outputs": [
        {
          "output_type": "stream",
          "text": [
            "==오늘의 메뉴 ==\n",
            "김밥\n",
            "떡볶이\n",
            "오뎅\n"
          ],
          "name": "stdout"
        }
      ]
    },
    {
      "cell_type": "code",
      "metadata": {
        "colab": {
          "base_uri": "https://localhost:8080/"
        },
        "id": "GR0yUpJ1l7sx",
        "outputId": "aaca5221-b33a-435c-c941-f7ab4179d47f"
      },
      "source": [
        "#lambda 함수,한줄로 간단하게 만들어주는 함수\n",
        "def plus(num1,num2):\n",
        "    result = num1 + num2\n",
        "    return result\n",
        "print(plus(10,20))\n",
        "\n",
        "plus = lambda num1,num2: num1 + num2\n",
        "print(plus(10,20))"
      ],
      "execution_count": null,
      "outputs": [
        {
          "output_type": "stream",
          "text": [
            "30\n",
            "30\n"
          ],
          "name": "stdout"
        }
      ]
    },
    {
      "cell_type": "code",
      "metadata": {
        "colab": {
          "base_uri": "https://localhost:8080/"
        },
        "id": "VqpVbcfNo9jK",
        "outputId": "f0f11d31-49b3-416f-9d39-bec1988745b8"
      },
      "source": [
        "plus = lambda num1,num2: num1+num2\n",
        "print(plus(10,20))\n"
      ],
      "execution_count": null,
      "outputs": [
        {
          "output_type": "stream",
          "text": [
            "30\n"
          ],
          "name": "stdout"
        }
      ]
    },
    {
      "cell_type": "code",
      "metadata": {
        "colab": {
          "base_uri": "https://localhost:8080/"
        },
        "id": "B4AQexk1mXBJ",
        "outputId": "be0a83c6-e52a-4fed-ea08-dd66f98d7ae3"
      },
      "source": [
        "#map()함수\n",
        "mylist = [1,2,3,4,5]\n",
        "mylist = set(map(lambda num: num +10,mylist))\n",
        "print(mylist)"
      ],
      "execution_count": null,
      "outputs": [
        {
          "output_type": "stream",
          "text": [
            "{11, 12, 13, 14, 15}\n"
          ],
          "name": "stdout"
        }
      ]
    },
    {
      "cell_type": "code",
      "metadata": {
        "colab": {
          "base_uri": "https://localhost:8080/"
        },
        "id": "sRSxcPfAoyds",
        "outputId": "0369daa0-a2fd-4a24-f370-c277e52f7115"
      },
      "source": [
        ""
      ],
      "execution_count": null,
      "outputs": [
        {
          "output_type": "stream",
          "text": [
            "30\n"
          ],
          "name": "stdout"
        }
      ]
    },
    {
      "cell_type": "code",
      "metadata": {
        "colab": {
          "base_uri": "https://localhost:8080/"
        },
        "id": "6Z0xPxE6o654",
        "outputId": "428e296a-29a2-4d9b-b571-b9a27671fc6c"
      },
      "source": [
        "#재귀함수: 함수 안에서 함수 자기자신을 호출하는 방식\n",
        "#재귀호출은 인반적인 상황에서는 잘 사용하지 않지만 알고리즘을 구현할때 매우 유용하다.\n",
        "def hello(count):\n",
        "    if count == 0:\n",
        "        return\n",
        "    print('hello, world', count)\n",
        "    count -= 1\n",
        "    hello(count)\n",
        "hello(5)"
      ],
      "execution_count": null,
      "outputs": [
        {
          "output_type": "stream",
          "text": [
            "hello, world 5\n",
            "hello, world 4\n",
            "hello, world 3\n",
            "hello, world 2\n",
            "hello, world 1\n"
          ],
          "name": "stdout"
        }
      ]
    },
    {
      "cell_type": "code",
      "metadata": {
        "colab": {
          "base_uri": "https://localhost:8080/"
        },
        "id": "7_N0ypiBpWjb",
        "outputId": "10ef57f9-02eb-45c7-a4c4-77d1fb27a868"
      },
      "source": [
        "def factorial(n):\n",
        "    if n == 1:#n이 1일때\n",
        "        return 1#1을 반환하고 재귀호출을 끝냄\n",
        "    return n * factorial(n - 1) #n과 팩토리얼 함수에 n-1을 넣어서 반환된 값을 곱함\n",
        "print(factorial(5))"
      ],
      "execution_count": null,
      "outputs": [
        {
          "output_type": "stream",
          "text": [
            "120\n"
          ],
          "name": "stdout"
        }
      ]
    },
    {
      "cell_type": "code",
      "metadata": {
        "colab": {
          "base_uri": "https://localhost:8080/"
        },
        "id": "aq3QFNKMqUT4",
        "outputId": "12eb60ce-925b-4f7b-8bb1-ef7c7004f7cf"
      },
      "source": [
        "dict_scores = {\n",
        "    '홍길동':80,\n",
        "    '공유':90,\n",
        "    '현빈':100\n",
        "}\n",
        "print(dict_scores.get('지선','없음'))\n"
      ],
      "execution_count": null,
      "outputs": [
        {
          "output_type": "stream",
          "text": [
            "없음\n"
          ],
          "name": "stdout"
        }
      ]
    },
    {
      "cell_type": "code",
      "metadata": {
        "colab": {
          "base_uri": "https://localhost:8080/",
          "height": 130
        },
        "id": "SZtTLMZTsVkp",
        "outputId": "ac511b93-238e-436c-af5a-bf7d5ef85bfe"
      },
      "source": [
        "#편의점 재고관리 시스템\n",
        "프로그램에는 세개 메뉴가 있으며 기능은 3개\n",
        "각메뉸 함수로 작성, 초기재고 삼각김밥 10개 커피우유 10개\n",
        "-재고등록: \n",
        "#엔터 입력할때까지 반복하여  사용자로부터 개수 이름 입력받기\n",
        "#만약 물건이름 없으면 추가하고 존재하면 개수 더하기\n",
        "#입력끝나면 모든 재고현황 보여주기~ 초기재고:삼김10,커피유유10개\n",
        "#"
      ],
      "execution_count": null,
      "outputs": [
        {
          "output_type": "error",
          "ename": "SyntaxError",
          "evalue": "ignored",
          "traceback": [
            "\u001b[0;36m  File \u001b[0;32m\"<ipython-input-106-999b7da48d2e>\"\u001b[0;36m, line \u001b[0;32m2\u001b[0m\n\u001b[0;31m    프로그램에는 세개 메뉴가 있으며 기능은 3개\u001b[0m\n\u001b[0m            ^\u001b[0m\n\u001b[0;31mSyntaxError\u001b[0m\u001b[0;31m:\u001b[0m invalid syntax\n"
          ]
        }
      ]
    },
    {
      "cell_type": "code",
      "metadata": {
        "colab": {
          "base_uri": "https://localhost:8080/",
          "height": 1000
        },
        "id": "Q-rY6EXOtFIo",
        "outputId": "2eb9799d-3934-41b4-8341-d9fddc7e4a66"
      },
      "source": [
        "inven ={\n",
        "    '삼각김밥' : 10,\n",
        "    '커피우유' : 20}\n",
        "while True:\n",
        "    print('''\n",
        "    =====재고관리 시스템 =====\n",
        "    1:재고등록, 2: 제품판매, 3:재고확인, 0:프로그램종료\n",
        "    ''')\n",
        "    menu = input('메뉴를 선택하세요:')\n",
        "    if menu == '0':\n",
        "        print('프로그램을 종료합니다.')\n",
        "        break\n",
        "    elif menu == '1':\n",
        "        print('재고를 등록합니다')\n",
        "        while True:\n",
        "            a = input('상품명:')\n",
        "            if a == '':\n",
        "                break\n",
        "            elif a in inven.keys():\n",
        "                b = int(input('개수:'))\n",
        "                inven[a]+=b\n",
        "            else:\n",
        "                b = int(input('개수:'))\n",
        "                inven[a]= b\n",
        "       "
      ],
      "execution_count": null,
      "outputs": [
        {
          "output_type": "stream",
          "text": [
            "\n",
            "    =====재고관리 시스템 =====\n",
            "    1:재고등록, 2: 제품판매, 3:재고확인, 0:프로그램종료\n",
            "    \n",
            "메뉴를 선택하세요:1\n",
            "재고를 등록합니다\n",
            "상품명:삼각김밥\n",
            "개수:3\n",
            "상품명:삼각김밥\n",
            "개수:3\n",
            "상품명:\n",
            "\n",
            "    =====재고관리 시스템 =====\n",
            "    1:재고등록, 2: 제품판매, 3:재고확인, 0:프로그램종료\n",
            "    \n",
            "메뉴를 선택하세요:2\n",
            "\n",
            "    =====재고관리 시스템 =====\n",
            "    1:재고등록, 2: 제품판매, 3:재고확인, 0:프로그램종료\n",
            "    \n",
            "메뉴를 선택하세요:1\n",
            "재고를 등록합니다\n",
            "상품명:\n",
            "\n",
            "    =====재고관리 시스템 =====\n",
            "    1:재고등록, 2: 제품판매, 3:재고확인, 0:프로그램종료\n",
            "    \n"
          ],
          "name": "stdout"
        },
        {
          "output_type": "error",
          "ename": "KeyboardInterrupt",
          "evalue": "ignored",
          "traceback": [
            "\u001b[0;31m---------------------------------------------------------------------------\u001b[0m",
            "\u001b[0;31mKeyboardInterrupt\u001b[0m                         Traceback (most recent call last)",
            "\u001b[0;32m/usr/local/lib/python3.7/dist-packages/ipykernel/kernelbase.py\u001b[0m in \u001b[0;36m_input_request\u001b[0;34m(self, prompt, ident, parent, password)\u001b[0m\n\u001b[1;32m    728\u001b[0m             \u001b[0;32mtry\u001b[0m\u001b[0;34m:\u001b[0m\u001b[0;34m\u001b[0m\u001b[0;34m\u001b[0m\u001b[0m\n\u001b[0;32m--> 729\u001b[0;31m                 \u001b[0mident\u001b[0m\u001b[0;34m,\u001b[0m \u001b[0mreply\u001b[0m \u001b[0;34m=\u001b[0m \u001b[0mself\u001b[0m\u001b[0;34m.\u001b[0m\u001b[0msession\u001b[0m\u001b[0;34m.\u001b[0m\u001b[0mrecv\u001b[0m\u001b[0;34m(\u001b[0m\u001b[0mself\u001b[0m\u001b[0;34m.\u001b[0m\u001b[0mstdin_socket\u001b[0m\u001b[0;34m,\u001b[0m \u001b[0;36m0\u001b[0m\u001b[0;34m)\u001b[0m\u001b[0;34m\u001b[0m\u001b[0;34m\u001b[0m\u001b[0m\n\u001b[0m\u001b[1;32m    730\u001b[0m             \u001b[0;32mexcept\u001b[0m \u001b[0mException\u001b[0m\u001b[0;34m:\u001b[0m\u001b[0;34m\u001b[0m\u001b[0;34m\u001b[0m\u001b[0m\n",
            "\u001b[0;32m/usr/local/lib/python3.7/dist-packages/jupyter_client/session.py\u001b[0m in \u001b[0;36mrecv\u001b[0;34m(self, socket, mode, content, copy)\u001b[0m\n\u001b[1;32m    802\u001b[0m         \u001b[0;32mtry\u001b[0m\u001b[0;34m:\u001b[0m\u001b[0;34m\u001b[0m\u001b[0;34m\u001b[0m\u001b[0m\n\u001b[0;32m--> 803\u001b[0;31m             \u001b[0mmsg_list\u001b[0m \u001b[0;34m=\u001b[0m \u001b[0msocket\u001b[0m\u001b[0;34m.\u001b[0m\u001b[0mrecv_multipart\u001b[0m\u001b[0;34m(\u001b[0m\u001b[0mmode\u001b[0m\u001b[0;34m,\u001b[0m \u001b[0mcopy\u001b[0m\u001b[0;34m=\u001b[0m\u001b[0mcopy\u001b[0m\u001b[0;34m)\u001b[0m\u001b[0;34m\u001b[0m\u001b[0;34m\u001b[0m\u001b[0m\n\u001b[0m\u001b[1;32m    804\u001b[0m         \u001b[0;32mexcept\u001b[0m \u001b[0mzmq\u001b[0m\u001b[0;34m.\u001b[0m\u001b[0mZMQError\u001b[0m \u001b[0;32mas\u001b[0m \u001b[0me\u001b[0m\u001b[0;34m:\u001b[0m\u001b[0;34m\u001b[0m\u001b[0;34m\u001b[0m\u001b[0m\n",
            "\u001b[0;32m/usr/local/lib/python3.7/dist-packages/zmq/sugar/socket.py\u001b[0m in \u001b[0;36mrecv_multipart\u001b[0;34m(self, flags, copy, track)\u001b[0m\n\u001b[1;32m    582\u001b[0m         \"\"\"\n\u001b[0;32m--> 583\u001b[0;31m         \u001b[0mparts\u001b[0m \u001b[0;34m=\u001b[0m \u001b[0;34m[\u001b[0m\u001b[0mself\u001b[0m\u001b[0;34m.\u001b[0m\u001b[0mrecv\u001b[0m\u001b[0;34m(\u001b[0m\u001b[0mflags\u001b[0m\u001b[0;34m,\u001b[0m \u001b[0mcopy\u001b[0m\u001b[0;34m=\u001b[0m\u001b[0mcopy\u001b[0m\u001b[0;34m,\u001b[0m \u001b[0mtrack\u001b[0m\u001b[0;34m=\u001b[0m\u001b[0mtrack\u001b[0m\u001b[0;34m)\u001b[0m\u001b[0;34m]\u001b[0m\u001b[0;34m\u001b[0m\u001b[0;34m\u001b[0m\u001b[0m\n\u001b[0m\u001b[1;32m    584\u001b[0m         \u001b[0;31m# have first part already, only loop while more to receive\u001b[0m\u001b[0;34m\u001b[0m\u001b[0;34m\u001b[0m\u001b[0;34m\u001b[0m\u001b[0m\n",
            "\u001b[0;32mzmq/backend/cython/socket.pyx\u001b[0m in \u001b[0;36mzmq.backend.cython.socket.Socket.recv\u001b[0;34m()\u001b[0m\n",
            "\u001b[0;32mzmq/backend/cython/socket.pyx\u001b[0m in \u001b[0;36mzmq.backend.cython.socket.Socket.recv\u001b[0;34m()\u001b[0m\n",
            "\u001b[0;32mzmq/backend/cython/socket.pyx\u001b[0m in \u001b[0;36mzmq.backend.cython.socket._recv_copy\u001b[0;34m()\u001b[0m\n",
            "\u001b[0;32m/usr/local/lib/python3.7/dist-packages/zmq/backend/cython/checkrc.pxd\u001b[0m in \u001b[0;36mzmq.backend.cython.checkrc._check_rc\u001b[0;34m()\u001b[0m\n",
            "\u001b[0;31mKeyboardInterrupt\u001b[0m: ",
            "\nDuring handling of the above exception, another exception occurred:\n",
            "\u001b[0;31mKeyboardInterrupt\u001b[0m                         Traceback (most recent call last)",
            "\u001b[0;32m<ipython-input-111-58af2bf8ab6b>\u001b[0m in \u001b[0;36m<module>\u001b[0;34m()\u001b[0m\n\u001b[1;32m      7\u001b[0m     \u001b[0;36m1\u001b[0m\u001b[0;34m:\u001b[0m\u001b[0m재고등록\u001b[0m\u001b[0;34m,\u001b[0m \u001b[0;36m2\u001b[0m\u001b[0;34m:\u001b[0m \u001b[0m제품판매\u001b[0m\u001b[0;34m,\u001b[0m \u001b[0;36m3\u001b[0m\u001b[0;34m:\u001b[0m\u001b[0m재고확인\u001b[0m\u001b[0;34m,\u001b[0m \u001b[0;36m0\u001b[0m\u001b[0;34m:\u001b[0m\u001b[0m프로그램종료\u001b[0m\u001b[0;34m\u001b[0m\u001b[0;34m\u001b[0m\u001b[0m\n\u001b[1;32m      8\u001b[0m     ''')\n\u001b[0;32m----> 9\u001b[0;31m     \u001b[0mmenu\u001b[0m \u001b[0;34m=\u001b[0m \u001b[0minput\u001b[0m\u001b[0;34m(\u001b[0m\u001b[0;34m'메뉴를 선택하세요:'\u001b[0m\u001b[0;34m)\u001b[0m\u001b[0;34m\u001b[0m\u001b[0;34m\u001b[0m\u001b[0m\n\u001b[0m\u001b[1;32m     10\u001b[0m     \u001b[0;32mif\u001b[0m \u001b[0mmenu\u001b[0m \u001b[0;34m==\u001b[0m \u001b[0;34m'0'\u001b[0m\u001b[0;34m:\u001b[0m\u001b[0;34m\u001b[0m\u001b[0;34m\u001b[0m\u001b[0m\n\u001b[1;32m     11\u001b[0m         \u001b[0mprint\u001b[0m\u001b[0;34m(\u001b[0m\u001b[0;34m'프로그램을 종료합니다.'\u001b[0m\u001b[0;34m)\u001b[0m\u001b[0;34m\u001b[0m\u001b[0;34m\u001b[0m\u001b[0m\n",
            "\u001b[0;32m/usr/local/lib/python3.7/dist-packages/ipykernel/kernelbase.py\u001b[0m in \u001b[0;36mraw_input\u001b[0;34m(self, prompt)\u001b[0m\n\u001b[1;32m    702\u001b[0m             \u001b[0mself\u001b[0m\u001b[0;34m.\u001b[0m\u001b[0m_parent_ident\u001b[0m\u001b[0;34m,\u001b[0m\u001b[0;34m\u001b[0m\u001b[0;34m\u001b[0m\u001b[0m\n\u001b[1;32m    703\u001b[0m             \u001b[0mself\u001b[0m\u001b[0;34m.\u001b[0m\u001b[0m_parent_header\u001b[0m\u001b[0;34m,\u001b[0m\u001b[0;34m\u001b[0m\u001b[0;34m\u001b[0m\u001b[0m\n\u001b[0;32m--> 704\u001b[0;31m             \u001b[0mpassword\u001b[0m\u001b[0;34m=\u001b[0m\u001b[0;32mFalse\u001b[0m\u001b[0;34m,\u001b[0m\u001b[0;34m\u001b[0m\u001b[0;34m\u001b[0m\u001b[0m\n\u001b[0m\u001b[1;32m    705\u001b[0m         )\n\u001b[1;32m    706\u001b[0m \u001b[0;34m\u001b[0m\u001b[0m\n",
            "\u001b[0;32m/usr/local/lib/python3.7/dist-packages/ipykernel/kernelbase.py\u001b[0m in \u001b[0;36m_input_request\u001b[0;34m(self, prompt, ident, parent, password)\u001b[0m\n\u001b[1;32m    732\u001b[0m             \u001b[0;32mexcept\u001b[0m \u001b[0mKeyboardInterrupt\u001b[0m\u001b[0;34m:\u001b[0m\u001b[0;34m\u001b[0m\u001b[0;34m\u001b[0m\u001b[0m\n\u001b[1;32m    733\u001b[0m                 \u001b[0;31m# re-raise KeyboardInterrupt, to truncate traceback\u001b[0m\u001b[0;34m\u001b[0m\u001b[0;34m\u001b[0m\u001b[0;34m\u001b[0m\u001b[0m\n\u001b[0;32m--> 734\u001b[0;31m                 \u001b[0;32mraise\u001b[0m \u001b[0mKeyboardInterrupt\u001b[0m\u001b[0;34m\u001b[0m\u001b[0;34m\u001b[0m\u001b[0m\n\u001b[0m\u001b[1;32m    735\u001b[0m             \u001b[0;32melse\u001b[0m\u001b[0;34m:\u001b[0m\u001b[0;34m\u001b[0m\u001b[0;34m\u001b[0m\u001b[0m\n\u001b[1;32m    736\u001b[0m                 \u001b[0;32mbreak\u001b[0m\u001b[0;34m\u001b[0m\u001b[0;34m\u001b[0m\u001b[0m\n",
            "\u001b[0;31mKeyboardInterrupt\u001b[0m: "
          ]
        }
      ]
    },
    {
      "cell_type": "code",
      "metadata": {
        "id": "XApT-Mdg0FUJ"
      },
      "source": [
        "inven ={\n",
        "    '삼각김밥' : 10,\n",
        "    '커피우유' : 20}\n",
        "while True:\n",
        "    print('''\n",
        "    =====재고관리 시스템 =====\n",
        "    1:재고등록, 2: 제품판매, 3:재고확인, 0:프로그램종료\n",
        "    ''')\n",
        "    menu = input('메뉴를 선택하세요:')\n",
        "    if menu == '0':\n",
        "        print('프로그램을 종료합니다.')\n",
        "        break\n",
        "    elif menu == '1':\n",
        "        print('재고를 등록합니다')\n",
        "        while True:\n",
        "            a = input('상품명:')\n",
        "            if a == '':\n",
        "                break\n",
        "            elif a in inven.keys():\n",
        "                b = int(input('개수:'))\n",
        "                inven[a]+=b\n",
        "            else:\n",
        "                b = int(input('개수:'))\n",
        "                inven[a]= b\n",
        "    elif menu == '2':\n",
        "        while True:\n",
        "            c = input('재고명 : ')\n",
        "            if c == '':\n",
        "                break\n",
        "            else:\n",
        "                d = int(input('갯수 : '))\n",
        "                if c not in inven.keys():\n",
        "                    print('재고가 없습니다.')\n",
        "                elif d > inven[c]:\n",
        "                    print('재고가 부족합니다')\n",
        "                else:\n",
        "                    inven[c] -= d\n",
        "  \n",
        "            \n",
        "       "
      ],
      "execution_count": null,
      "outputs": []
    },
    {
      "cell_type": "code",
      "metadata": {
        "id": "1xQEzVYQ4tBd"
      },
      "source": [
        ""
      ],
      "execution_count": null,
      "outputs": []
    }
  ]
}