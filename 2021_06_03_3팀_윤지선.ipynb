{
  "nbformat": 4,
  "nbformat_minor": 0,
  "metadata": {
    "colab": {
      "name": "2021-06-03_3팀_윤지선.ipynb",
      "provenance": [],
      "authorship_tag": "ABX9TyOcMTpzMSE7h87TuxX5s0sV",
      "include_colab_link": true
    },
    "kernelspec": {
      "name": "python3",
      "display_name": "Python 3"
    },
    "language_info": {
      "name": "python"
    }
  },
  "cells": [
    {
      "cell_type": "markdown",
      "metadata": {
        "id": "view-in-github",
        "colab_type": "text"
      },
      "source": [
        "<a href=\"https://colab.research.google.com/github/jeesun329/jython329/blob/master/2021_06_03_3%ED%8C%80_%EC%9C%A4%EC%A7%80%EC%84%A0.ipynb\" target=\"_parent\"><img src=\"https://colab.research.google.com/assets/colab-badge.svg\" alt=\"Open In Colab\"/></a>"
      ]
    },
    {
      "cell_type": "code",
      "metadata": {
        "colab": {
          "base_uri": "https://localhost:8080/"
        },
        "id": "uE4TIqFBEvx5",
        "outputId": "7736d0ee-ef9c-4a29-aba9-34eb40cfb2a2"
      },
      "source": [
        "alist = {\n",
        "    '1팀':[20,21,33,23], \n",
        "    '2팀':[10,10,20,30,25], \n",
        "    '3팀':[20,30,25,30],\n",
        "    '4팀':[20,20,20,20],\n",
        "    '5팀':[30,30,20,20,10],\n",
        "    '6팀':[20,20,25,30]}\n",
        "age_li = []\n",
        "for i,v in alist.items():\n",
        "    print(f'{i}의 최저연령은{min(v)} 최고연령은 {max(v)}')\n",
        "    age_li.extend(v)\n",
        "    #print(age_li)\n",
        "print(f'DT스쿨 최저연령은{min(age_li)} 최고연령은 {max(age_li)}')\n",
        "print(f'dt스쿨 평균 나이는 ')"
      ],
      "execution_count": null,
      "outputs": [
        {
          "output_type": "stream",
          "text": [
            "1팀의 최저연령은20 최고연령은 33\n",
            "[20, 21, 33, 23]\n",
            "2팀의 최저연령은10 최고연령은 30\n",
            "[20, 21, 33, 23, 10, 10, 20, 30, 25]\n",
            "3팀의 최저연령은20 최고연령은 30\n",
            "[20, 21, 33, 23, 10, 10, 20, 30, 25, 20, 30, 25, 30]\n",
            "4팀의 최저연령은20 최고연령은 20\n",
            "[20, 21, 33, 23, 10, 10, 20, 30, 25, 20, 30, 25, 30, 20, 20, 20, 20]\n",
            "5팀의 최저연령은10 최고연령은 30\n",
            "[20, 21, 33, 23, 10, 10, 20, 30, 25, 20, 30, 25, 30, 20, 20, 20, 20, 30, 30, 20, 20, 10]\n",
            "6팀의 최저연령은20 최고연령은 30\n",
            "[20, 21, 33, 23, 10, 10, 20, 30, 25, 20, 30, 25, 30, 20, 20, 20, 20, 30, 30, 20, 20, 10, 20, 20, 25, 30]\n",
            "DT스쿨 최저연령은10 최고연령은 33\n"
          ],
          "name": "stdout"
        }
      ]
    },
    {
      "cell_type": "code",
      "metadata": {
        "id": "lm2yFAZzFnHD"
      },
      "source": [
        "team_dic = {'승혜':['러닝',70,25,20],'유진':['드라마보기',60,25,25],'지현':['노래듣기',65,23,21],'창익':['당구',60,27,17],'혜원':[0,28,28],'영은':['책읽기랑운동하기',95,25,20],'지선':['카페가기',90,23,23]}\n",
        "a = input()\n",
        "b_list = team_dic[a]\n",
        "print(f'우리{a}님은{b_list[0]}을 좋아해요')\n",
        "print(f'체력은 {b_list[1]}! {b_list[2]}세의 신체연령에 신기하게도 정신연령은 {b_list[3]}세!')\n",
        "print(f'사랑스러운{a}님이시네요')\n",
        "random.choice()"
      ],
      "execution_count": null,
      "outputs": []
    },
    {
      "cell_type": "code",
      "metadata": {
        "colab": {
          "base_uri": "https://localhost:8080/",
          "height": 147
        },
        "id": "eUqU67wcNYnv",
        "outputId": "3d738787-8e52-4b28-84a4-a01affc97e0c"
      },
      "source": [
        "team_dic = {'승혜':['러닝':70,25,20],'유진'['드라마보기',60,25,25],'지현'['노래듣기',65,23,21],'창익'['당구'',60,27,17],'혜원'['인터넷쇼핑하기',70,28,28],'영은'['책읽기랑운동하기',95,25,20],'지선'['카페가기',90,23,23]}\n",
        "a = input()\n",
        "b_list = team_dic[a]\n",
        "print(f'우리{a}님은{b_list[0]}을 좋아해요')\n",
        "print(f'체력은 {b_list[1]! {b_list[2]}세의 신체연령에 신기하게도 정신연령은 {b_list[3]}세!')\n",
        "print(f'사랑스러운{a}님이시네요')\n"
      ],
      "execution_count": null,
      "outputs": [
        {
          "output_type": "error",
          "ename": "SyntaxError",
          "evalue": "ignored",
          "traceback": [
            "\u001b[0;36m  File \u001b[0;32m\"<ipython-input-10-195d0a07b314>\"\u001b[0;36m, line \u001b[0;32m1\u001b[0m\n\u001b[0;31m    team_dic = {'승혜':['러닝':70,25,20],'유진'['드라마보기',60,25,25],'지현'['노래듣기',65,23,21],'창익'['당구'',60,27,17],'혜원'['인터넷쇼핑하기',70,28,28],'영은'['책읽기랑운동하기',95,25,20],'지선'['카페가기',90,23,23]}\u001b[0m\n\u001b[0m                          ^\u001b[0m\n\u001b[0;31mSyntaxError\u001b[0m\u001b[0;31m:\u001b[0m invalid syntax\n"
          ]
        }
      ]
    },
    {
      "cell_type": "code",
      "metadata": {
        "id": "UIngMcWYQsmP"
      },
      "source": [
        "team_may = {'수루키':['한슬기','댄스','곱창','발리'],\n",
        "            '갓디':['신동열','자전거','돈까스','아이슬란드'],\n",
        "            '너구리':['이영이', '양파,감자', '잠', '뉴욕'],\n",
        "            '매운오돌뼈':['박정선','책 읽기' '쫄면','크로아티아'],\n",
        "            '뚜뚜':['김은수' , '노래 듣기' , '떡볶이' , '유럽'],\n",
        "            '데이지':['노현정','유튜브보기','매번다름','이스탄불'],\n",
        "nick_name = input('누가 궁금한가요?')\n",
        "if nick_name != team_may :\n",
        "    print('우리팀원이 아니에요')\n",
        "b_list = team_may[nick_name]\n",
        "print(f'오월의 오팀 {nick_name}님을 소개합니다.')\n",
        "print(f'{nick_name}님의 이름은 {b_list[0]}.')\n",
        "print(f'취미는 {b_list[1]}.')\n",
        "print(f'{nick_name}님이 좋아하는 음식은 {b_list[2]} 이고,')\n",
        "print(f'여행가고 싶은 곳은 {b_list[3]} 입니다!.')\n",
        "print(f'우리 오월의 오팀 사랑스런 {nick_name}님을 환영해주세용♡')"
      ],
      "execution_count": null,
      "outputs": []
    },
    {
      "cell_type": "code",
      "metadata": {
        "colab": {
          "base_uri": "https://localhost:8080/"
        },
        "id": "X5G1o00dHv2s",
        "outputId": "94ca7c31-0fe8-40f7-c543-f4cda6915d6e"
      },
      "source": [
        "#문자열 나누기,문자열.split(),\n",
        "text = '문자열 나누기'\n",
        "li = text.split(sep=' ')\n",
        "li"
      ],
      "execution_count": null,
      "outputs": [
        {
          "output_type": "execute_result",
          "data": {
            "text/plain": [
              "['문자열', '나누기']"
            ]
          },
          "metadata": {
            "tags": []
          },
          "execution_count": 5
        }
      ]
    },
    {
      "cell_type": "code",
      "metadata": {
        "colab": {
          "base_uri": "https://localhost:8080/",
          "height": 35
        },
        "id": "oxG3uKY3Ij1u",
        "outputId": "00aa5fa8-4cb1-44f0-d810-97c271a901ab"
      },
      "source": [
        "#'구분자.join()\n",
        "text2 = ' '.join(li)\n",
        "text2"
      ],
      "execution_count": null,
      "outputs": [
        {
          "output_type": "execute_result",
          "data": {
            "application/vnd.google.colaboratory.intrinsic+json": {
              "type": "string"
            },
            "text/plain": [
              "'문자열 나누기'"
            ]
          },
          "metadata": {
            "tags": []
          },
          "execution_count": 6
        }
      ]
    },
    {
      "cell_type": "code",
      "metadata": {
        "colab": {
          "base_uri": "https://localhost:8080/"
        },
        "id": "_wHD-V-hIo0W",
        "outputId": "38976bb8-016c-4aa7-a519-c1d18b56dfd3"
      },
      "source": [
        "alist = {\n",
        "    '키1':['값1', '값2'], \n",
        "    '키2':['값3', '값4'], \n",
        "    '키3':['값5', '값6'],\n",
        "    '키4':{'키':100}}\n",
        "print(list(alist['키1']))\n",
        "print(alist['키4']['키'])\n"
      ],
      "execution_count": null,
      "outputs": [
        {
          "output_type": "stream",
          "text": [
            "['값1', '값2']\n",
            "100\n"
          ],
          "name": "stdout"
        }
      ]
    },
    {
      "cell_type": "code",
      "metadata": {
        "colab": {
          "base_uri": "https://localhost:8080/"
        },
        "id": "KQdKUfB_JuwU",
        "outputId": "7ca47931-ea1f-4685-b97c-a1d665b7f275"
      },
      "source": [
        "alist = [17,24,22,22,20,20]    \n",
        "print(f'3팀의 평균연령은 {int(sum(alist)/len(alist))}입니다')"
      ],
      "execution_count": null,
      "outputs": [
        {
          "output_type": "stream",
          "text": [
            "3팀의 평균연령은 20입니다\n"
          ],
          "name": "stdout"
        }
      ]
    },
    {
      "cell_type": "code",
      "metadata": {
        "id": "BNhkM0wlh2fg"
      },
      "source": [
        ""
      ],
      "execution_count": null,
      "outputs": []
    }
  ]
}